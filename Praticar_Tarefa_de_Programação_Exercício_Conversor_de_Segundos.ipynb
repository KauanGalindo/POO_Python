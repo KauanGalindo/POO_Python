{
  "nbformat": 4,
  "nbformat_minor": 0,
  "metadata": {
    "colab": {
      "provenance": [],
      "authorship_tag": "ABX9TyNx/gSQ+Fft5WaAi7VPvno/"
    },
    "kernelspec": {
      "name": "python3",
      "display_name": "Python 3"
    },
    "language_info": {
      "name": "python"
    }
  },
  "cells": [
    {
      "cell_type": "code",
      "execution_count": null,
      "metadata": {
        "colab": {
          "base_uri": "https://localhost:8080/"
        },
        "id": "NEBw5-7cM9W1",
        "outputId": "e45373cb-face-4898-8155-6870d6402d13"
      },
      "outputs": [
        {
          "output_type": "stream",
          "name": "stdout",
          "text": [
            "Por favor, entre com o número de segundos que deseja converter: 123456323456\n",
            "1428892 dia, 15 horas, 10 minutos e 56 segundos.\n"
          ]
        }
      ],
      "source": [
        "seconds = input('Por favor, entre com o número de segundos que deseja converter: ')\n",
        "total_sec = int(seconds)\n",
        "\n",
        "days = total_sec // 86400\n",
        "hours = total_sec // 3600\n",
        "sec_restantes = total_sec % 3600\n",
        "minutes = sec_restantes // 60\n",
        "sec_restantes_final = sec_restantes % 60\n",
        "\n",
        "if (total_sec == 0):\n",
        "  print(' -------- ZERO SEGUNDOS NÃO EXISTE -------- ')\n",
        "\n",
        "if (days == 0): \n",
        "  print(days, 'dia,', hours, 'horas,', minutes, 'minutos e', sec_restantes_final, 'segundos.')\n",
        "\n",
        "if (total_sec > 3600): \n",
        "  hours = (total_sec // 3600 ) - (24 * days)\n",
        "  print(days, 'dia,', hours, 'horas,', minutes, 'minutos e', sec_restantes_final, 'segundos.')\n"
      ]
    }
  ]
}